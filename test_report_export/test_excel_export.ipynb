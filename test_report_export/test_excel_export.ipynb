{
 "cells": [
  {
   "cell_type": "markdown",
   "metadata": {},
   "source": [
    "## test excel report export creator"
   ]
  },
  {
   "cell_type": "code",
   "execution_count": 1,
   "metadata": {
    "collapsed": true
   },
   "outputs": [],
   "source": [
    "import pandas as pd"
   ]
  },
  {
   "cell_type": "code",
   "execution_count": 3,
   "metadata": {
    "collapsed": false
   },
   "outputs": [
    {
     "data": {
      "text/html": [
       "<div>\n",
       "<table border=\"1\" class=\"dataframe\">\n",
       "  <thead>\n",
       "    <tr style=\"text-align: right;\">\n",
       "      <th></th>\n",
       "      <th>id</th>\n",
       "      <th>staff_id</th>\n",
       "      <th>first_name</th>\n",
       "      <th>last_name</th>\n",
       "      <th>branch_name</th>\n",
       "      <th>task_name</th>\n",
       "      <th>punch_time_in</th>\n",
       "      <th>punch_time_out</th>\n",
       "      <th>session_time_hours</th>\n",
       "    </tr>\n",
       "  </thead>\n",
       "  <tbody>\n",
       "    <tr>\n",
       "      <th>0</th>\n",
       "      <td>1112016-01-02 08:00:00</td>\n",
       "      <td>9997</td>\n",
       "      <td>TEST_FIRST_NAME_1</td>\n",
       "      <td>TEST_LAST_NAME_1</td>\n",
       "      <td>TEST_BRANCH_1</td>\n",
       "      <td>TEST_TASK_1</td>\n",
       "      <td>2016-01-02 08:00:00</td>\n",
       "      <td>2016-01-02 11:00:00</td>\n",
       "      <td>3.0</td>\n",
       "    </tr>\n",
       "    <tr>\n",
       "      <th>1</th>\n",
       "      <td>1232016-01-03 11:00:00</td>\n",
       "      <td>9997</td>\n",
       "      <td>TEST_FIRST_NAME_1</td>\n",
       "      <td>TEST_LAST_NAME_1</td>\n",
       "      <td>TEST_BRANCH_2</td>\n",
       "      <td>TEST_TASK_3</td>\n",
       "      <td>2016-01-03 11:00:00</td>\n",
       "      <td>2016-01-03 12:00:00</td>\n",
       "      <td>1.0</td>\n",
       "    </tr>\n",
       "    <tr>\n",
       "      <th>2</th>\n",
       "      <td>2122016-01-03 10:00:00</td>\n",
       "      <td>9998</td>\n",
       "      <td>TEST_FIRST_NAME_2</td>\n",
       "      <td>TEST_LAST_NAME_2</td>\n",
       "      <td>TEST_BRANCH_1</td>\n",
       "      <td>TEST_TASK_2</td>\n",
       "      <td>2016-01-03 10:00:00</td>\n",
       "      <td>2016-01-03 12:00:00</td>\n",
       "      <td>2.0</td>\n",
       "    </tr>\n",
       "    <tr>\n",
       "      <th>3</th>\n",
       "      <td>3112016-01-04 09:00:00</td>\n",
       "      <td>9999</td>\n",
       "      <td>TEST_FIRST_NAME_3</td>\n",
       "      <td>TEST_LAST_NAME_3</td>\n",
       "      <td>TEST_BRANCH_1</td>\n",
       "      <td>TEST_TASK_1</td>\n",
       "      <td>2016-01-04 09:00:00</td>\n",
       "      <td>NaN</td>\n",
       "      <td>NaN</td>\n",
       "    </tr>\n",
       "  </tbody>\n",
       "</table>\n",
       "</div>"
      ],
      "text/plain": [
       "                       id  staff_id         first_name         last_name  \\\n",
       "0  1112016-01-02 08:00:00      9997  TEST_FIRST_NAME_1  TEST_LAST_NAME_1   \n",
       "1  1232016-01-03 11:00:00      9997  TEST_FIRST_NAME_1  TEST_LAST_NAME_1   \n",
       "2  2122016-01-03 10:00:00      9998  TEST_FIRST_NAME_2  TEST_LAST_NAME_2   \n",
       "3  3112016-01-04 09:00:00      9999  TEST_FIRST_NAME_3  TEST_LAST_NAME_3   \n",
       "\n",
       "     branch_name    task_name        punch_time_in       punch_time_out  \\\n",
       "0  TEST_BRANCH_1  TEST_TASK_1  2016-01-02 08:00:00  2016-01-02 11:00:00   \n",
       "1  TEST_BRANCH_2  TEST_TASK_3  2016-01-03 11:00:00  2016-01-03 12:00:00   \n",
       "2  TEST_BRANCH_1  TEST_TASK_2  2016-01-03 10:00:00  2016-01-03 12:00:00   \n",
       "3  TEST_BRANCH_1  TEST_TASK_1  2016-01-04 09:00:00                  NaN   \n",
       "\n",
       "   session_time_hours  \n",
       "0                 3.0  \n",
       "1                 1.0  \n",
       "2                 2.0  \n",
       "3                 NaN  "
      ]
     },
     "execution_count": 3,
     "metadata": {},
     "output_type": "execute_result"
    }
   ],
   "source": [
    "# df = pd.read_excel(\"test_data.xlsx\", sheetname=\"PunchTime\")\n",
    "df = pd.read_csv(\"test.csv\")\n",
    "df"
   ]
  },
  {
   "cell_type": "code",
   "execution_count": 5,
   "metadata": {
    "collapsed": false
   },
   "outputs": [
    {
     "data": {
      "text/html": [
       "<div>\n",
       "<table border=\"1\" class=\"dataframe\">\n",
       "  <thead>\n",
       "    <tr style=\"text-align: right;\">\n",
       "      <th></th>\n",
       "      <th>id</th>\n",
       "      <th>staff_id</th>\n",
       "      <th>first_name</th>\n",
       "      <th>last_name</th>\n",
       "      <th>branch_name</th>\n",
       "      <th>task_name</th>\n",
       "      <th>punch_time_in</th>\n",
       "      <th>punch_time_out</th>\n",
       "      <th>session_time_hours</th>\n",
       "      <th>volunteer_name</th>\n",
       "    </tr>\n",
       "  </thead>\n",
       "  <tbody>\n",
       "    <tr>\n",
       "      <th>0</th>\n",
       "      <td>1112016-01-02 08:00:00</td>\n",
       "      <td>9997</td>\n",
       "      <td>TEST_FIRST_NAME_1</td>\n",
       "      <td>TEST_LAST_NAME_1</td>\n",
       "      <td>TEST_BRANCH_1</td>\n",
       "      <td>TEST_TASK_1</td>\n",
       "      <td>2016-01-02 08:00:00</td>\n",
       "      <td>2016-01-02 11:00:00</td>\n",
       "      <td>3.0</td>\n",
       "      <td>TEST_LAST_NAME_1, TEST_FIRST_NAME_1</td>\n",
       "    </tr>\n",
       "    <tr>\n",
       "      <th>1</th>\n",
       "      <td>1232016-01-03 11:00:00</td>\n",
       "      <td>9997</td>\n",
       "      <td>TEST_FIRST_NAME_1</td>\n",
       "      <td>TEST_LAST_NAME_1</td>\n",
       "      <td>TEST_BRANCH_2</td>\n",
       "      <td>TEST_TASK_3</td>\n",
       "      <td>2016-01-03 11:00:00</td>\n",
       "      <td>2016-01-03 12:00:00</td>\n",
       "      <td>1.0</td>\n",
       "      <td>TEST_LAST_NAME_1, TEST_FIRST_NAME_1</td>\n",
       "    </tr>\n",
       "    <tr>\n",
       "      <th>2</th>\n",
       "      <td>2122016-01-03 10:00:00</td>\n",
       "      <td>9998</td>\n",
       "      <td>TEST_FIRST_NAME_2</td>\n",
       "      <td>TEST_LAST_NAME_2</td>\n",
       "      <td>TEST_BRANCH_1</td>\n",
       "      <td>TEST_TASK_2</td>\n",
       "      <td>2016-01-03 10:00:00</td>\n",
       "      <td>2016-01-03 12:00:00</td>\n",
       "      <td>2.0</td>\n",
       "      <td>TEST_LAST_NAME_2, TEST_FIRST_NAME_2</td>\n",
       "    </tr>\n",
       "    <tr>\n",
       "      <th>3</th>\n",
       "      <td>3112016-01-04 09:00:00</td>\n",
       "      <td>9999</td>\n",
       "      <td>TEST_FIRST_NAME_3</td>\n",
       "      <td>TEST_LAST_NAME_3</td>\n",
       "      <td>TEST_BRANCH_1</td>\n",
       "      <td>TEST_TASK_1</td>\n",
       "      <td>2016-01-04 09:00:00</td>\n",
       "      <td>NaN</td>\n",
       "      <td>NaN</td>\n",
       "      <td>TEST_LAST_NAME_3, TEST_FIRST_NAME_3</td>\n",
       "    </tr>\n",
       "  </tbody>\n",
       "</table>\n",
       "</div>"
      ],
      "text/plain": [
       "                       id  staff_id         first_name         last_name  \\\n",
       "0  1112016-01-02 08:00:00      9997  TEST_FIRST_NAME_1  TEST_LAST_NAME_1   \n",
       "1  1232016-01-03 11:00:00      9997  TEST_FIRST_NAME_1  TEST_LAST_NAME_1   \n",
       "2  2122016-01-03 10:00:00      9998  TEST_FIRST_NAME_2  TEST_LAST_NAME_2   \n",
       "3  3112016-01-04 09:00:00      9999  TEST_FIRST_NAME_3  TEST_LAST_NAME_3   \n",
       "\n",
       "     branch_name    task_name        punch_time_in       punch_time_out  \\\n",
       "0  TEST_BRANCH_1  TEST_TASK_1  2016-01-02 08:00:00  2016-01-02 11:00:00   \n",
       "1  TEST_BRANCH_2  TEST_TASK_3  2016-01-03 11:00:00  2016-01-03 12:00:00   \n",
       "2  TEST_BRANCH_1  TEST_TASK_2  2016-01-03 10:00:00  2016-01-03 12:00:00   \n",
       "3  TEST_BRANCH_1  TEST_TASK_1  2016-01-04 09:00:00                  NaN   \n",
       "\n",
       "   session_time_hours                       volunteer_name  \n",
       "0                 3.0  TEST_LAST_NAME_1, TEST_FIRST_NAME_1  \n",
       "1                 1.0  TEST_LAST_NAME_1, TEST_FIRST_NAME_1  \n",
       "2                 2.0  TEST_LAST_NAME_2, TEST_FIRST_NAME_2  \n",
       "3                 NaN  TEST_LAST_NAME_3, TEST_FIRST_NAME_3  "
      ]
     },
     "execution_count": 5,
     "metadata": {},
     "output_type": "execute_result"
    }
   ],
   "source": [
    "df['volunteer_name'] = df.last_name + \", \" + df.first_name\n",
    "df"
   ]
  }
 ],
 "metadata": {
  "kernelspec": {
   "display_name": "Python 2",
   "language": "python",
   "name": "python2"
  },
  "language_info": {
   "codemirror_mode": {
    "name": "ipython",
    "version": 2
   },
   "file_extension": ".py",
   "mimetype": "text/x-python",
   "name": "python",
   "nbconvert_exporter": "python",
   "pygments_lexer": "ipython2",
   "version": "2.7.10"
  }
 },
 "nbformat": 4,
 "nbformat_minor": 0
}
